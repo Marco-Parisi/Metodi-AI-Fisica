{
 "cells": [
  {
   "cell_type": "code",
   "execution_count": 2,
   "metadata": {
    "colab": {
     "base_uri": "https://localhost:8080/"
    },
    "executionInfo": {
     "elapsed": 5503,
     "status": "ok",
     "timestamp": 1710167901813,
     "user": {
      "displayName": "Marco Parisi",
      "userId": "12874689326662286932"
     },
     "user_tz": -60
    },
    "id": "m5vCL9gVZr1a",
    "outputId": "11f05a49-52c6-4472-c97b-8a5d48079f88"
   },
   "outputs": [
    {
     "name": "stdout",
     "output_type": "stream",
     "text": [
      "Numero di città: 219\n"
     ]
    }
   ],
   "source": [
    "import torch\n",
    "import numpy as np\n",
    "import matplotlib.pyplot as plt\n",
    "\n",
    "#torch.random.manual_seed(1)\n",
    "\n",
    "# Genera punti casuali (città)\n",
    "# densità delle città (0 < x <= 1)\n",
    "city_density = 1\n",
    "grid_size = 20\n",
    "cities_grid = torch.randint( int( 1 / city_density )+1, size = ( grid_size, grid_size ), dtype=torch.int )\n",
    "\n",
    "# ripulisce la griglia, solo se il valore è = 1 è considerata \"città\"\n",
    "cities_grid[ cities_grid > 1 ] = 0\n",
    "\n",
    "# calcola il numero di città\n",
    "num_cities = int(torch.sum(cities_grid == 1))\n",
    "print(f\"Numero di città: {num_cities}\")"
   ]
  },
  {
   "cell_type": "markdown",
   "metadata": {
    "id": "fGfIr4-7My7-"
   },
   "source": [
    "## Definizione distanza tra le città"
   ]
  },
  {
   "cell_type": "code",
   "execution_count": 3,
   "metadata": {
    "executionInfo": {
     "elapsed": 9192,
     "status": "ok",
     "timestamp": 1710167911002,
     "user": {
      "displayName": "Marco Parisi",
      "userId": "12874689326662286932"
     },
     "user_tz": -60
    },
    "id": "JJmNstOcMh0X"
   },
   "outputs": [],
   "source": [
    "# definisco la distanza di Manhattan\n",
    "def distanza_manhattan(p1, p2):\n",
    "  return np.abs(p1[0] - p2[0]) + np.abs(p1[1] - p2[1])\n",
    "\n",
    "# definisco la distanza Euclidea\n",
    "def distanza_euclidea(p1, p2):\n",
    "  return np.sqrt((p1[0] - p2[0])**2 + (p1[1] - p2[1])**2)\n",
    "\n",
    "# Crea una matrice delle distanze basata sulla griglia (1 rappresenta le città)\n",
    "def crea_matrice_distanze(cities_grid, method=\"M\"):\n",
    "    city_positions = torch.argwhere(cities_grid == 1)\n",
    "    num_cities = city_positions.shape[0]\n",
    "    distances = torch.zeros((num_cities, num_cities), dtype=torch.int)\n",
    "    for i in range(num_cities):\n",
    "        for j in range(num_cities):\n",
    "            if(method == \"M\"):\n",
    "              distances[i, j] = distanza_manhattan(city_positions[i], city_positions[j])\n",
    "            if(method == \"E\"):\n",
    "              distances[i, j] = distanza_euclidea(city_positions[i], city_positions[j])\n",
    "    return distances\n",
    "\n",
    "distances = crea_matrice_distanze(cities_grid, \"M\")"
   ]
  },
  {
   "cell_type": "markdown",
   "metadata": {
    "id": "lKYw1hpvNF7g"
   },
   "source": [
    "# Algoritmo Genetico"
   ]
  },
  {
   "cell_type": "code",
   "execution_count": 4,
   "metadata": {
    "executionInfo": {
     "elapsed": 5,
     "status": "ok",
     "timestamp": 1710167911003,
     "user": {
      "displayName": "Marco Parisi",
      "userId": "12874689326662286932"
     },
     "user_tz": -60
    },
    "id": "L1p59cPQKirg"
   },
   "outputs": [],
   "source": [
    "# Funzione di fitness (lunghezza totale del tour)\n",
    "def fitness(tour):\n",
    "  return torch.sum(distances[tour[:-1], tour[1:]])\n",
    "\n",
    "# Crossover\n",
    "def crossover():\n",
    "    offset = 1\n",
    "    for i in range(0, population_size-1, 2):\n",
    "        parent1 = population[i].clone()\n",
    "        parent2 = population[i+1].clone()\n",
    "        figlio1 = torch.tensor([-1]*len(parent1), dtype=torch.int)\n",
    "\n",
    "        cross_point = np.random.randint(offset, int(num_cities/2))\n",
    "        cross_start = cross_point\n",
    "        cross_end =  len(parent1) - cross_point\n",
    "\n",
    "        figlio1[cross_start : cross_end] = parent1[cross_start : cross_end]\n",
    "\n",
    "        parent2_indices = torch.tensor(list(p2 not in figlio1 for p2 in parent2)).nonzero(as_tuple=True)[0].unsqueeze(1)\n",
    "        figlio1_indices = (figlio1 == -1).nonzero(as_tuple=True)[0].unsqueeze(1)\n",
    "\n",
    "        for i in range(0, len(parent2_indices)):\n",
    "            figlio1[int(figlio1_indices[i])] = parent2[int(parent2_indices[i])]\n",
    "\n",
    "        population[i] = figlio1\n",
    "\n",
    "# Mutazione: swap di due elementi del vettore in modo causale\n",
    "def mutation():\n",
    "  for i in range( int( population_size * mut_porz ), population_size):\n",
    "     idx1, idx2 = np.random.choice(num_cities, 2, replace=False)\n",
    "     idx1_value = population[i, idx1].clone()\n",
    "     idx2_value = population[i, idx2].clone()\n",
    "     population[i, idx1] = idx2_value\n",
    "     population[i, idx2] = idx1_value\n",
    "\n",
    "# di debug per controllare città duplicate\n",
    "def has_cities_duplicate(tour):\n",
    "  unique_cities, _ = torch.unique(tour, return_counts=True)\n",
    "  return unique_cities.shape[0] != tour.shape[0]"
   ]
  },
  {
   "cell_type": "markdown",
   "metadata": {
    "id": "lNdBxAg0NJYM"
   },
   "source": [
    "# Ciclo generativo"
   ]
  },
  {
   "cell_type": "code",
   "execution_count": 13,
   "metadata": {
    "colab": {
     "base_uri": "https://localhost:8080/",
     "height": 505
    },
    "executionInfo": {
     "elapsed": 741446,
     "status": "ok",
     "timestamp": 1710171700646,
     "user": {
      "displayName": "Marco Parisi",
      "userId": "12874689326662286932"
     },
     "user_tz": -60
    },
    "id": "4wPfviNJqmc8",
    "outputId": "2af2cb9b-2f2f-4e65-c45f-704e5c4a09ea"
   },
   "outputs": [
    {
     "name": "stdout",
     "output_type": "stream",
     "text": [
      "Ordine del miglior tour: 191, 91, 97, 208, 175, 207, 174, 190, 173, 145, 87, 68, 161, 45, 74, 118, 101, 112, 75, 88, 95, 92, 135, 103, 146, 28, 182, 81, 53, 73, 216, 179, 205, 170, 166, 201, 59, 48, 24, 38, 20, 56, 108, 143, 54, 93, 96, 22, 44, 76, 127, 183, 199, 134, 111, 171, 152, 35, 33, 65, 30, 162, 184, 144, 169, 156, 128, 194, 157, 158, 193, 218, 187, 197, 136, 110, 119, 32, 94, 159, 185, 189, 202, 133, 77, 70, 120, 126, 106, 82, 86, 34, 186, 198, 204, 206, 142, 140, 116, 122, 114, 14, 10, 46, 7, 17, 11, 85, 37, 66, 69, 58, 3, 84, 57, 100, 9, 149, 52, 71, 41, 61, 98, 196, 141, 43, 113, 200, 165, 148, 50, 78, 203, 138, 115, 125, 123, 72, 40, 5, 8, 181, 49, 219, 36, 67, 42, 83, 39, 60, 160, 26, 29, 23, 25, 107, 167, 217, 80, 16, 31, 19, 117, 12, 15, 1, 21, 209, 150, 176, 188, 163, 214, 178, 137, 102, 27, 18, 79, 51, 62, 172, 104, 180, 131, 129, 177, 168, 192, 213, 90, 155, 4, 6, 151, 124, 47, 99, 211, 195, 55, 64, 63, 132, 121, 164, 147, 154, 2, 105, 109, 130, 210, 215, 139, 13, 153, 89, 212\n",
      "Lunghezza totale del tour: 2080.0000\n"
     ]
    },
    {
     "data": {
      "text/plain": [
       "[<matplotlib.lines.Line2D at 0x7f2fd8a785e0>]"
      ]
     },
     "execution_count": 13,
     "metadata": {},
     "output_type": "execute_result"
    },
    {
     "data": {
      "image/png": "[encoded data removed]",
      "text/plain": [
       "<Figure size 640x480 with 1 Axes>"
      ]
     },
     "metadata": {},
     "output_type": "display_data"
    }
   ],
   "source": [
    "# Popoplazione iniziale generata casualmente\n",
    "population_size = 300\n",
    "# Numero di iterazioni\n",
    "num_generazioni = 1000\n",
    "# Porzioni di popolazione mutare\n",
    "mut_porz = 0.1\n",
    "\n",
    "#torch.random.manual_seed(18)\n",
    "# Genera la popolazione casualmente\n",
    "population = torch.arange(num_cities).repeat(population_size, 1)\n",
    "for i in range(population_size):\n",
    "    torch.randperm(num_cities, out=population[i])\n",
    "\n",
    "#population = torch.cat((population, torch.tensor([2, 1, 6, 3, 0, 5, 4]).view(1, num_cities)), 0)\n",
    "\n",
    "fitmin_array=torch.tensor([0]*num_generazioni) # Array che memorizza il fitness minimo ad ogni generazione\n",
    "\n",
    "for gen in range(num_generazioni):\n",
    "    fitness_values = torch.tensor([fitness(tour) for tour in population])\n",
    "    sorted_indices = torch.argsort(fitness_values)\n",
    "    population = population[sorted_indices]\n",
    "    #print(population)\n",
    "    fitmin_array[gen] = fitness_values.min()\n",
    "    # crossover e mutazioni vengono fatte fino alla penultima iterazione\n",
    "    if gen != num_generazioni-1:\n",
    "        crossover()\n",
    "        mutation()\n",
    "\n",
    "# Estrai il miglior tour\n",
    "miglior_tour = population[0]\n",
    "\n",
    "# Stampa l'ordine delle città nel miglior tour\n",
    "print(f\"Ordine del miglior tour: {', '.join(str(int(x+1)) for x in miglior_tour)}\")\n",
    "\n",
    "# Calcola la lunghezza totale del tour\n",
    "lunghezza_totale = fitness(miglior_tour)\n",
    "print(f\"Lunghezza totale del tour: {lunghezza_totale:.4f}\")\n",
    "\n",
    "# Stampa la griglia con le città e plotta l'andamento del minimo della fitness\n",
    "#print(cities_grid)\n",
    "n=np.arange(0,len(fitmin_array))\n",
    "plt.plot(n,fitmin_array)"
   ]
  },
  {
   "cell_type": "code",
   "execution_count": null,
   "metadata": {
    "id": "Hgkrj3SEBEU1"
   },
   "outputs": [],
   "source": [
    "seq = list(range(0, num_cities, 1))\n",
    "#print(seq)\n",
    "\n",
    "cities = [0] * num_cities\n",
    "\n",
    "import random\n",
    "\n",
    "for i in range(0, num_cities):\n",
    "    cities[i] = random.choice(seq)\n",
    "    seq.remove(cities[i])\n",
    "\n",
    "print(cities)"
   ]
  },
  {
   "cell_type": "markdown",
   "metadata": {
    "id": "g3zS2L9HM7me"
   },
   "source": [
    "# Solo Crossover"
   ]
  },
  {
   "cell_type": "code",
   "execution_count": 10,
   "metadata": {
    "colab": {
     "base_uri": "https://localhost:8080/",
     "height": 505
    },
    "executionInfo": {
     "elapsed": 749,
     "status": "ok",
     "timestamp": 1710170439475,
     "user": {
      "displayName": "Marco Parisi",
      "userId": "12874689326662286932"
     },
     "user_tz": -60
    },
    "id": "kVQqZplIGdg2",
    "outputId": "f78bfa91-04f3-4f7e-c8e7-9a4659303203"
   },
   "outputs": [
    {
     "name": "stdout",
     "output_type": "stream",
     "text": [
      "Ordine del miglior tour: 10, 46, 55, 160, 38, 23, 17, 114, 213, 192, 206, 133, 103, 177, 183, 203, 136, 144, 191, 81, 87, 19, 109, 212, 70, 21, 100, 77, 31, 178, 216, 193, 42, 156, 9, 106, 174, 158, 150, 166, 75, 68, 43, 65, 208, 90, 179, 169, 201, 5, 189, 45, 4, 152, 104, 92, 26, 22, 173, 85, 219, 16, 35, 121, 197, 64, 107, 99, 78, 210, 135, 149, 6, 62, 110, 146, 211, 164, 118, 71, 207, 125, 111, 112, 44, 34, 7, 198, 115, 148, 12, 101, 20, 147, 139, 131, 180, 60, 53, 14, 13, 200, 184, 214, 205, 161, 204, 140, 72, 82, 8, 61, 24, 51, 3, 199, 73, 57, 153, 218, 95, 138, 47, 27, 41, 33, 63, 130, 50, 86, 25, 155, 29, 93, 54, 83, 76, 116, 196, 97, 176, 170, 188, 165, 30, 89, 58, 48, 126, 88, 1, 190, 91, 69, 105, 117, 79, 120, 40, 123, 67, 167, 11, 37, 36, 66, 39, 128, 129, 124, 15, 141, 162, 96, 102, 145, 108, 127, 181, 142, 143, 163, 32, 185, 151, 168, 215, 59, 182, 134, 119, 202, 122, 113, 49, 28, 74, 171, 194, 195, 94, 2, 217, 157, 209, 175, 18, 56, 159, 84, 187, 172, 186, 80, 98, 52, 154, 132, 137\n",
      "Lunghezza totale del tour: 2577.0000\n"
     ]
    },
    {
     "data": {
      "text/plain": [
       "[<matplotlib.lines.Line2D at 0x7f2fd8aa1540>]"
      ]
     },
     "execution_count": 10,
     "metadata": {},
     "output_type": "execute_result"
    },
    {
     "data": {
      "image/png": "[encoded data removed]",
      "text/plain": [
       "<Figure size 640x480 with 1 Axes>"
      ]
     },
     "metadata": {},
     "output_type": "display_data"
    }
   ],
   "source": [
    "print(f\"Ordine del miglior tour: {', '.join(str(int(x+1)) for x in miglior_tour)}\")\n",
    "\n",
    "# Calcola la lunghezza totale del tour\n",
    "lunghezza_totale = fitness(miglior_tour)\n",
    "print(f\"Lunghezza totale del tour: {lunghezza_totale:.4f}\")\n",
    "\n",
    "# Stampa la griglia con le città e plotta l'andamento del minimo della fitness\n",
    "n=np.arange(0,len(fitmin_array))\n",
    "plt.plot(n,fitmin_array)"
   ]
  },
  {
   "cell_type": "markdown",
   "metadata": {
    "id": "qukR6Fs3M-_N"
   },
   "source": [
    "# Solo Mutazioni"
   ]
  },
  {
   "cell_type": "code",
   "execution_count": 12,
   "metadata": {
    "colab": {
     "base_uri": "https://localhost:8080/",
     "height": 505
    },
    "executionInfo": {
     "elapsed": 431,
     "status": "ok",
     "timestamp": 1710170949285,
     "user": {
      "displayName": "Marco Parisi",
      "userId": "12874689326662286932"
     },
     "user_tz": -60
    },
    "id": "tU--nX8WIakh",
    "outputId": "83a5dabd-d64c-4dea-b9b1-153eeea3a94b"
   },
   "outputs": [
    {
     "name": "stdout",
     "output_type": "stream",
     "text": [
      "Ordine del miglior tour: 57, 10, 81, 77, 38, 18, 15, 97, 70, 113, 120, 177, 76, 181, 182, 4, 194, 178, 34, 72, 118, 173, 121, 67, 33, 218, 52, 29, 39, 13, 1, 163, 132, 3, 46, 152, 199, 196, 175, 48, 17, 36, 109, 55, 206, 127, 95, 205, 164, 211, 86, 162, 124, 111, 61, 160, 16, 9, 197, 190, 94, 139, 219, 165, 45, 188, 147, 79, 85, 59, 64, 138, 151, 99, 78, 58, 68, 198, 179, 146, 149, 189, 145, 136, 93, 65, 5, 141, 69, 183, 210, 49, 47, 21, 129, 117, 166, 184, 185, 214, 50, 51, 44, 176, 170, 103, 92, 142, 74, 2, 102, 96, 14, 91, 125, 187, 200, 8, 60, 11, 161, 119, 123, 213, 12, 104, 204, 27, 192, 116, 37, 53, 26, 41, 172, 156, 56, 167, 90, 207, 100, 180, 110, 108, 88, 135, 154, 216, 203, 40, 208, 32, 63, 54, 75, 62, 168, 84, 71, 169, 101, 35, 122, 23, 80, 128, 83, 31, 28, 201, 212, 157, 73, 195, 148, 133, 43, 174, 131, 209, 171, 144, 89, 114, 153, 19, 82, 150, 215, 115, 6, 112, 66, 107, 126, 191, 24, 98, 87, 134, 202, 42, 193, 30, 20, 7, 137, 130, 158, 22, 25, 217, 186, 143, 155, 105, 159, 140, 106\n",
      "Lunghezza totale del tour: 2576.0000\n"
     ]
    },
    {
     "data": {
      "text/plain": [
       "[<matplotlib.lines.Line2D at 0x7f2fd897a830>]"
      ]
     },
     "execution_count": 12,
     "metadata": {},
     "output_type": "execute_result"
    },
    {
     "data": {
      "image/png": "[encoded data removed]",
      "text/plain": [
       "<Figure size 640x480 with 1 Axes>"
      ]
     },
     "metadata": {},
     "output_type": "display_data"
    }
   ],
   "source": [
    "print(f\"Ordine del miglior tour: {', '.join(str(int(x+1)) for x in miglior_tour)}\")\n",
    "\n",
    "# Calcola la lunghezza totale del tour\n",
    "lunghezza_totale = fitness(miglior_tour)\n",
    "print(f\"Lunghezza totale del tour: {lunghezza_totale:.4f}\")\n",
    "\n",
    "# Stampa la griglia con le città e plotta l'andamento del minimo della fitness\n",
    "n=np.arange(0,len(fitmin_array))\n",
    "plt.plot(n,fitmin_array)"
   ]
  }
 ],
 "metadata": {
  "colab": {
   "authorship_tag": "ABX9TyMKUYvVVy7ARuPMjq8oL3CT",
   "provenance": []
  },
  "kernelspec": {
   "display_name": "Python 3 (ipykernel)",
   "language": "python",
   "name": "python3"
  },
  "language_info": {
   "codemirror_mode": {
    "name": "ipython",
    "version": 3
   },
   "file_extension": ".py",
   "mimetype": "text/x-python",
   "name": "python",
   "nbconvert_exporter": "python",
   "pygments_lexer": "ipython3",
   "version": "3.12.3"
  }
 },
 "nbformat": 4,
 "nbformat_minor": 4
}
