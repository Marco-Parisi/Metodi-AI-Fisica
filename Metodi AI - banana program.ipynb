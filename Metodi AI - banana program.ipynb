{
 "cells": [
  {
   "cell_type": "markdown",
   "metadata": {
    "id": "u5FIUUy5TAWq"
   },
   "source": [
    "#### Parola desiderata"
   ]
  },
  {
   "cell_type": "code",
   "execution_count": 27,
   "metadata": {
    "executionInfo": {
     "elapsed": 9,
     "status": "ok",
     "timestamp": 1711019735947,
     "user": {
      "displayName": "Marco Parisi",
      "userId": "12874689326662286932"
     },
     "user_tz": -60
    },
    "id": "0F6LCaLLSuKF"
   },
   "outputs": [],
   "source": [
    "import numpy as np\n",
    "import string\n",
    "import matplotlib.pyplot as plt\n",
    "import random\n",
    "import time\n",
    "\n",
    "# parola desiderata\n",
    "model = \"Banana\"\n",
    "model = list(model)\n",
    "model_len = len(model)"
   ]
  },
  {
   "cell_type": "markdown",
   "metadata": {
    "id": "1WsjRsDjS4M6"
   },
   "source": [
    "#### Funzioni di utility per la generazione ed il check della \"word\""
   ]
  },
  {
   "cell_type": "code",
   "execution_count": 9,
   "metadata": {
    "executionInfo": {
     "elapsed": 7,
     "status": "ok",
     "timestamp": 1711019735948,
     "user": {
      "displayName": "Marco Parisi",
      "userId": "12874689326662286932"
     },
     "user_tz": -60
    },
    "id": "on_zcwxsSwde"
   },
   "outputs": [],
   "source": [
    "def randomletter():\n",
    "    return random.choice(string.ascii_letters + \" \" if \" \" in model else string.ascii_letters)\n",
    "\n",
    "# genera parole random tra lettere minuscole e maiuscole\n",
    "def randomword():\n",
    "    # aggiungo 1 perché l'ultimo valore è un intero che rappresenta lo score della fitness\n",
    "    word = [0] * (model_len + 1)\n",
    "    for i in range(model_len):\n",
    "        word[i] = randomletter()\n",
    "    return word\n",
    "\n",
    "# controlla se la parola contiene le lettere del modello e restituisce gli indici per cui\n",
    "# NON si verifica questa condizione\n",
    "def wordcheck(word):\n",
    "    seq = [x for x in range(model_len)]\n",
    "    index_seq = []\n",
    "    for i in range(model_len):\n",
    "        for j in range(model_len):\n",
    "            if word[i] == model[j]:\n",
    "                index_seq.append(i)\n",
    "                break\n",
    "\n",
    "    if index_seq != []:\n",
    "         for i in index_seq:\n",
    "            seq.remove(i)\n",
    "    return seq\n",
    "\n",
    "# rigenera casualmente le parole con fitness uguale a 0\n",
    "def repop():\n",
    "    for i in range(population_size):\n",
    "        if words_population[i][-1] == 0:\n",
    "            break\n",
    "    if i > 0:\n",
    "        words_population[i:population_size]= [randomword() for _ in range(population_size-i)]"
   ]
  },
  {
   "cell_type": "markdown",
   "metadata": {
    "id": "ylN3n3UCS2Zm"
   },
   "source": [
    "#### Algoritmo Genetico"
   ]
  },
  {
   "cell_type": "code",
   "execution_count": 10,
   "metadata": {
    "executionInfo": {
     "elapsed": 6,
     "status": "ok",
     "timestamp": 1711019735948,
     "user": {
      "displayName": "Marco Parisi",
      "userId": "12874689326662286932"
     },
     "user_tz": -60
    },
    "id": "Q6AJYp5zNmna"
   },
   "outputs": [],
   "source": [
    "# assegna un punteggio alle parole\n",
    "def fitness(words_population):\n",
    "    for word in words_population:\n",
    "        # l'indice -1, ovvero l'ultima posizione della lista, contiene lo score delle word\n",
    "        word[-1] = 0\n",
    "        for i in range(model_len):\n",
    "            if word[i] in model:\n",
    "                word[-1] += 1  # se contiene una lettera del modello\n",
    "                for j in range(model_len):\n",
    "                    if word[i] == model[j]:\n",
    "                        if i == j:\n",
    "                            word[-1] += 1  # se la lettera è al posto giusto\n",
    "\n",
    "    # ordina in modo decrescente basandosi sullo score della fitness\n",
    "    words_population.sort(reverse=True, key = lambda x: x[-1])\n",
    "\n",
    "# crossover tra le parole migliori\n",
    "def crossover(words_population, cross_perc=0.5):\n",
    "    cross_point = int(model_len / 2)\n",
    "    cross_size = int(len(words_population) * cross_perc)\n",
    "\n",
    "    # controlla se la lunghezza del modello è dispari, se lo è aggiunge 1 al for\n",
    "    odd_len = 1 if (model_len % 2 > 0) else 0\n",
    "\n",
    "    for i in range(0, cross_size, 2):\n",
    "        word1 = words_population[i]\n",
    "        word2 = words_population[i+1]\n",
    "        for i in range(cross_point+odd_len):\n",
    "            word1[i] = word1[i+cross_point]\n",
    "            word1[i+cross_point] = word2[i]\n",
    "\n",
    "# sostituisce casualmente una lettera per ogni parola compresa nella percentuale di popolazione\n",
    "def mutation(words_population, mut_perc=0.5):\n",
    "    pop_len = len(words_population)\n",
    "    mut_len = int(pop_len * mut_perc)\n",
    "\n",
    "    for i in range(mut_len):\n",
    "        # popola indices con gli indici per cui non si verifica l'uguaglianza tra\n",
    "        # le lettere della word i-esima e quelle del modello\n",
    "        indices = wordcheck(words_population[i])\n",
    "        k =  random.randint(0, model_len-1)\n",
    "\n",
    "        # se k è all'interno di indices vuol dire che word[k] non è presente nel modello\n",
    "        # di conseguenza può essere cambiata con una nuova lettere random\n",
    "        if k in indices:\n",
    "            words_population[i][k] = randomletter()"
   ]
  },
  {
   "cell_type": "markdown",
   "metadata": {
    "id": "e8nde6y3TPo3"
   },
   "source": [
    "#### Ciclo Generativo"
   ]
  },
  {
   "cell_type": "code",
   "execution_count": 28,
   "metadata": {
    "colab": {
     "base_uri": "https://localhost:8080/"
    },
    "executionInfo": {
     "elapsed": 912,
     "status": "ok",
     "timestamp": 1711019736854,
     "user": {
      "displayName": "Marco Parisi",
      "userId": "12874689326662286932"
     },
     "user_tz": -60
    },
    "id": "umUs7aJdTO_8",
    "outputId": "4160d722-3820-4e27-e790-48e8a5dd6a2a"
   },
   "outputs": [
    {
     "name": "stdout",
     "output_type": "stream",
     "text": [
      "risultato:  Banana\n",
      "tempo trascorso: 0.2905sec\n",
      "iterazioni: 74\n",
      "fitness migliore: 12\n"
     ]
    },
    {
     "data": {
      "image/png": "[encoded data removed]",
      "text/plain": [
       "<Figure size 640x480 with 1 Axes>"
      ]
     },
     "metadata": {},
     "output_type": "display_data"
    }
   ],
   "source": [
    "generation_num = 1000\n",
    "population_size = 1000\n",
    "# genera la popolazione iniziale di parole in modo casuale\n",
    "words_population = [randomword() for i in range(population_size)]\n",
    "\n",
    "# calcola il massimo della fitness dato dal modello\n",
    "# servirà come escape in caso di raggiungimento dell'obiettivo\n",
    "fitness_max = 2 * model_len\n",
    "fitness_list = []\n",
    "\n",
    "start_time = time.perf_counter()\n",
    "end_time = None\n",
    "\n",
    "for epoch in range(generation_num):\n",
    "    fitness(words_population)\n",
    "    fitness_list.append(words_population[0][-1])\n",
    "\n",
    "    # rigenera casualmente le parole con fitness uguale a 0\n",
    "    repop()\n",
    "\n",
    "    # controlla se è stata raggiunta la fitness massima dalla prima parola della popolazione\n",
    "    # (in ordine di fitness decrescente), se anche è uguale al modello, allora termina il ciclo\n",
    "    if words_population[0][-1] == fitness_max and words_population[0][0:model_len] == model:\n",
    "        end_time = time.perf_counter()\n",
    "        break\n",
    "\n",
    "    # crossover e mutation fino alla penultima iterazione\n",
    "    if epoch != generation_num-1:\n",
    "        crossover(words_population)\n",
    "        mutation(words_population)\n",
    "\n",
    "if end_time == None:\n",
    "    end_time = time.perf_counter()\n",
    "\n",
    "elapsed_time = end_time - start_time\n",
    "\n",
    "print(\"risultato: \", ''.join(words_population[0][i] for i in range(model_len)))\n",
    "print(f\"tempo trascorso: {elapsed_time:.4f}sec\\niterazioni: {epoch+1}\")\n",
    "print(f\"fitness migliore: {fitness_list[-1]}\")\n",
    "\n",
    "# plot del massimo fitness raggiunto all'iterazione n-esima\n",
    "n=np.arange(0,len(fitness_list))\n",
    "plt.plot(n,fitness_list)\n",
    "plt.plot(n, [fitness_max] * len(n), 'r')\n",
    "plt.show()"
   ]
  }
 ],
 "metadata": {
  "colab": {
   "authorship_tag": "ABX9TyO7UShSw7SnFvs4au5O1gQw",
   "collapsed_sections": [
    "1WsjRsDjS4M6",
    "ylN3n3UCS2Zm"
   ],
   "mount_file_id": "1MC_E_ZpcQMGyCnZ3V0r6g-sES1Sbktcj",
   "provenance": []
  },
  "kernelspec": {
   "display_name": "Python 3 (ipykernel)",
   "language": "python",
   "name": "python3"
  },
  "language_info": {
   "codemirror_mode": {
    "name": "ipython",
    "version": 3
   },
   "file_extension": ".py",
   "mimetype": "text/x-python",
   "name": "python",
   "nbconvert_exporter": "python",
   "pygments_lexer": "ipython3",
   "version": "3.12.3"
  }
 },
 "nbformat": 4,
 "nbformat_minor": 4
}
