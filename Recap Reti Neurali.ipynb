{
 "cells": [
  {
   "cell_type": "code",
   "execution_count": 1,
   "id": "02d44f55-e592-4346-8a48-1265bb8fff7e",
   "metadata": {},
   "outputs": [],
   "source": [
    "import torch\n",
    "import torchvision"
   ]
  },
  {
   "cell_type": "markdown",
   "id": "18e223d2-01ca-4771-93af-f664d6632183",
   "metadata": {},
   "source": [
    "### Summary e Preprocessing"
   ]
  },
  {
   "cell_type": "markdown",
   "id": "30a7ad73-4c7d-467e-9fce-aca61a50479e",
   "metadata": {
    "jp-MarkdownHeadingCollapsed": true
   },
   "source": [
    "### Dataloader $\\quad \\rightarrow \\quad$ [link documentazione](https://pytorch.org/docs/stable/data.html#torch.utils.data.DataLoader)"
   ]
  },
  {
   "cell_type": "code",
   "execution_count": null,
   "id": "6263630b-8043-4271-9f09-9b4544a85710",
   "metadata": {},
   "outputs": [],
   "source": [
    "from torch.utils.data import TensorDataset, DataLoader\n",
    "\n",
    "test_data, vali_data = torch.utils.data.random_split(testing_data, [test_size, vali_size]) # ... DA SCRIVERE\n",
    "\n",
    "batch_size = 128\n",
    "subproc = 0\n",
    "pin_mem = True\n",
    "\n",
    "ds_cls_train = TensorDataset(x_cls_train_pt, y_cls_train_pt) # a datset are pair of feature Tensor, target Tensor\n",
    "dl_cls_train = DataLoader(ds_cls_train, \n",
    "                          batch_size=batch_size, \n",
    "                          shuffle=True, \n",
    "                          num_workers=subproc, \n",
    "                          drop_last=True, \n",
    "                          pin_memory=pin_mem) "
   ]
  },
  {
   "cell_type": "code",
   "execution_count": null,
   "id": "a1e2e294-f873-476c-9456-b20dd1ead1ef",
   "metadata": {},
   "outputs": [],
   "source": [
    "from torchvision import datasets, transforms\n",
    "from torch.utils.data import DataLoader\n",
    "\n",
    "train_transforms = transforms.Compose([#transforms.RandomRotation(10), #applica una rotazione random +/- 10 deg\n",
    "                                       #transforms.RandomHorizontalFlip(), #applica un flip random dei pixel orizontal\n",
    "                                       transforms.Resize((100,100)), #assicura che l'immagine sia 100x100\n",
    "                                       transforms.ToTensor(), #converte in tensori torch\n",
    "                                      ])\n",
    "\n",
    "train_data = datasets.ImageFolder(data_dir, train_transforms)\n",
    "\n",
    "dataloaders = dict() #usiamo un dizionario epr comodità\n",
    "dataloaders['train'] = DataLoader(train_data,\n",
    "                                  batch_size=batch_size,\n",
    "                                  shuffle=True, \n",
    "                                  num_workers=subproc, \n",
    "                                  drop_last=True, \n",
    "                                  pin_memory=pin_mem,\n",
    "                                  persistent_workers=True)"
   ]
  },
  {
   "cell_type": "markdown",
   "id": "59b8a2c0-b1f0-4b61-84cf-0ba4f425939b",
   "metadata": {
    "jp-MarkdownHeadingCollapsed": true
   },
   "source": [
    "### Moduli $\\quad \\rightarrow \\quad$ [link documentazione](https://pytorch.org/docs/stable/nn.html)"
   ]
  },
  {
   "cell_type": "code",
   "execution_count": null,
   "id": "5be8f5a0-3914-4e8d-b6fe-898eb177cbb0",
   "metadata": {},
   "outputs": [],
   "source": [
    "from torch import nn\n",
    "import torch.nn.functional as F\n",
    "\n",
    "# Convoluzione\n",
    "self.conv = nn.Conv2d(in_channels=16, out_channels=32, stride=2, padding=1, kernel_size=(3,3))\n",
    "# --------> https://github.com/vdumoulin/conv_arithmetic/blob/master/README.md\n",
    "# Convoluzione trasposta\n",
    "self.convT = nn.ConvTranspose2d(in_channels=32, out_channels=16, stride=2, padding=1, kernel_size=(4,4))\n",
    "\n",
    "# Pooling\n",
    "self.pool = nn.MaxPool2d(kernel_size=(2,2))\n",
    "self.pool = nn.AvgPool2d(kernel_size=(2,2))\n",
    "\n",
    "# Dropout\n",
    "self.drop = nn.Dropout(p=0.5) \n",
    "\n",
    "# flattener 1D\n",
    "self.flatten = nn.Flatten()\n",
    "\n",
    "# Attivazione\n",
    "self.relu = F.relu()\n",
    "self.relu = nn.ReLU()\n",
    "self.lrelu = nn.LeakyReLU()\n",
    "self.sigmoid = torch.sigmoid()\n",
    "self.sigmoid = nn.Sigmoid()\n",
    "self.softmax = nn.Softmax()"
   ]
  },
  {
   "cell_type": "markdown",
   "id": "e1af2756-3d74-408c-9506-f10b5bc9453b",
   "metadata": {
    "jp-MarkdownHeadingCollapsed": true
   },
   "source": [
    "### Loss  $\\quad \\rightarrow \\quad$ [link documentazione](https://pytorch.org/docs/stable/nn.html#loss-functions)"
   ]
  },
  {
   "cell_type": "code",
   "execution_count": null,
   "id": "f4531e86-47ac-4c8b-8fac-c7a813174cb6",
   "metadata": {},
   "outputs": [],
   "source": [
    "# classificazione con classi pesate\n",
    "cls_weights = []\n",
    "class_num = 3\n",
    "class_count_sum = sum(df['class'].value_counts())\n",
    "for i in range(class_num):\n",
    "  cls_weights.append(class_count_sum / ( class_num * df['class'].value_counts().iloc[i] ))\n",
    "  \n",
    "loss_func = nn.CrossEntropyLoss(cls_weights) \n",
    "\n",
    "# regressione\n",
    "loss_func = nn.MSELoss() \n",
    "loss_func = nn.L1Loss()"
   ]
  },
  {
   "cell_type": "markdown",
   "id": "89a81ccc-21ab-40dc-a3ff-9c2e929ad6df",
   "metadata": {
    "jp-MarkdownHeadingCollapsed": true
   },
   "source": [
    "### Ottimizzatori  $\\quad \\rightarrow \\quad$ [link documentazione](https://pytorch.org/docs/stable/optim.html#algorithms)"
   ]
  },
  {
   "cell_type": "code",
   "execution_count": null,
   "id": "701213dd-e53c-47f9-a0a2-625e378aec48",
   "metadata": {},
   "outputs": [],
   "source": [
    "from torch import optim\n",
    "\n",
    "LR_ST = 1e-3\n",
    "opt =  optim.Adam(model.parameters(), lr=LR_ST)\n",
    "opt =  optim.SGD(model.parameters(), lr=LR_ST)\n",
    "# Scheduler che diminusice il LR a intervalli fissati\n",
    "# ogni 15 epoche riduce il learning rate di un fattore gamma: lr = lr*gamma\n",
    "scheduler = optim.lr_scheduler.StepLR(opt, 15, gamma=0.1, last_epoch=-1)"
   ]
  },
  {
   "cell_type": "markdown",
   "id": "05d4bc54-2edf-4faa-9288-1997bef35452",
   "metadata": {
    "jp-MarkdownHeadingCollapsed": true
   },
   "source": [
    "### Metriche $\\quad \\rightarrow \\quad$ [link documentazione](https://lightning.ai/docs/torchmetrics/stable/all-metrics.html)"
   ]
  },
  {
   "cell_type": "code",
   "execution_count": null,
   "id": "c4977a6c-877c-4f1d-88ed-1a72f953f08e",
   "metadata": {},
   "outputs": [],
   "source": [
    "from torchmetrics.classification import Accuracy\n",
    "from torchmetrics.regression import MeanAbsoluteError\n",
    "\n",
    "# classificazione\n",
    "accuracy = Accuracy(task=\"multiclass\", num_classes=4)\n",
    "accuracy(preds, target)\n",
    "\n",
    "# regressione\n",
    "mean_absolute_error = MeanAbsoluteError()\n",
    "mean_absolute_error(preds, target)\n",
    "\n",
    "#NOTA: va spostata anche essa nel device in cui si esegue il cacolo e sono presenti i tensori\n",
    "metric_fun = metric_fun.to(device) "
   ]
  },
  {
   "cell_type": "markdown",
   "id": "cde99d33-1562-4b84-bd49-168e919da847",
   "metadata": {},
   "source": [
    "### Varie"
   ]
  },
  {
   "cell_type": "code",
   "execution_count": null,
   "id": "703fbc87-e7fd-40a7-ac90-9454f997276f",
   "metadata": {},
   "outputs": [],
   "source": [
    "try:\n",
    "  model.cpu()\n",
    "  del model\n",
    "  print(\"'model' eliminato\")\n",
    "except: print(\"'model' non definito\")\n",
    "finally:\n",
    "  import gc\n",
    "  gc.collect()\n",
    "  print(\"Garbage collected\")\n",
    "  torch.cuda.empty_cache()\n",
    "  print(\"CUDA cache clear\")\n",
    "\n",
    "\n",
    "def ConvOutDim(W,K,S,P,D):\n",
    "  return int(((W+(2*P)-(D*(K-1))-1)/S)+1)\n",
    "\n",
    "conv_out_dim = ConvOutDim(wav_sample_size, kernel, stride, padding, dilation)   \n",
    "print(conv_out_dim)\n"
   ]
  }
 ],
 "metadata": {
  "kernelspec": {
   "display_name": "Python 3 (ipykernel)",
   "language": "python",
   "name": "python3"
  },
  "language_info": {
   "codemirror_mode": {
    "name": "ipython",
    "version": 3
   },
   "file_extension": ".py",
   "mimetype": "text/x-python",
   "name": "python",
   "nbconvert_exporter": "python",
   "pygments_lexer": "ipython3",
   "version": "3.12.3"
  }
 },
 "nbformat": 4,
 "nbformat_minor": 5
}
